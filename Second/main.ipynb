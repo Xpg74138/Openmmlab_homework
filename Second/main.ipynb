{
 "cells": [
  {
   "attachments": {},
   "cell_type": "markdown",
   "metadata": {},
   "source": [
    "划分数据集"
   ]
  },
  {
   "cell_type": "code",
   "execution_count": 1,
   "metadata": {},
   "outputs": [
    {
     "name": "stderr",
     "output_type": "stream",
     "text": [
      "Copying files: 4375 files [00:00, 22085.30 files/s]\n"
     ]
    }
   ],
   "source": [
    "import splitfolders\n",
    "\n",
    "# train:validation:test=8:1:1\n",
    "splitfolders.ratio(input='./data', output='output', seed=1337, ratio=(0.8, 0.1, 0.1))\n"
   ]
  },
  {
   "attachments": {},
   "cell_type": "markdown",
   "metadata": {},
   "source": [
    "训练"
   ]
  },
  {
   "cell_type": "code",
   "execution_count": 6,
   "metadata": {
    "vscode": {
     "languageId": "shellscript"
    }
   },
   "outputs": [
    {
     "ename": "SyntaxError",
     "evalue": "invalid syntax (2613106242.py, line 1)",
     "output_type": "error",
     "traceback": [
      "\u001b[0;36m  Cell \u001b[0;32mIn[6], line 1\u001b[0;36m\u001b[0m\n\u001b[0;31m    mim train mmpretrain config.py --work-dir=./exp\u001b[0m\n\u001b[0m        ^\u001b[0m\n\u001b[0;31mSyntaxError\u001b[0m\u001b[0;31m:\u001b[0m invalid syntax\n"
     ]
    }
   ],
   "source": [
    "mim train mmpretrain config.py --work-dir=./exp"
   ]
  },
  {
   "attachments": {},
   "cell_type": "markdown",
   "metadata": {},
   "source": [
    "验证"
   ]
  },
  {
   "cell_type": "code",
   "execution_count": null,
   "metadata": {
    "vscode": {
     "languageId": "shellscript"
    }
   },
   "outputs": [],
   "source": [
    "mim test mmpretrain config.py --checkpoint exp/epoch_10.pth --out result.pkl #把结果保存在.pkl文件中"
   ]
  },
  {
   "attachments": {},
   "cell_type": "markdown",
   "metadata": {},
   "source": [
    "结果分析"
   ]
  },
  {
   "cell_type": "code",
   "execution_count": null,
   "metadata": {
    "vscode": {
     "languageId": "shellscript"
    }
   },
   "outputs": [],
   "source": [
    "mim run mmpretrain analyze_results config.py result.pkl --out-dir analyze\n",
    "mim run mmpretrain confusion_matrix config.py result.pkl --show --include-values # 画出分类的混淆矩阵"
   ]
  },
  {
   "attachments": {},
   "cell_type": "markdown",
   "metadata": {},
   "source": [
    "推理"
   ]
  },
  {
   "cell_type": "code",
   "execution_count": 11,
   "metadata": {},
   "outputs": [
    {
     "name": "stdout",
     "output_type": "stream",
     "text": [
      "Loads checkpoint by local backend from path: exp/epoch_4.pth\n"
     ]
    },
    {
     "data": {
      "text/html": [
       "<pre style=\"white-space:pre;overflow-x:auto;line-height:normal;font-family:Menlo,'DejaVu Sans Mono',consolas,'Courier New',monospace\"></pre>\n"
      ],
      "text/plain": []
     },
     "metadata": {},
     "output_type": "display_data"
    },
    {
     "data": {
      "text/plain": [
       "[{'pred_scores': array([2.7422434e-02, 1.9228735e-04, 4.2788772e-05, 3.6745437e-04,\n",
       "         5.9460627e-04, 8.9248247e-04, 7.3717878e-04, 1.2100557e-03,\n",
       "         6.2579516e-04, 1.2169335e-01, 1.9121565e-03, 9.1259344e-04,\n",
       "         4.5146546e-04, 9.3646988e-05, 8.0955576e-04, 6.5885682e-04,\n",
       "         1.0919350e-02, 1.6330720e-03, 2.7182707e-04, 1.3518181e-04,\n",
       "         1.1913785e-03, 8.3227758e-04, 8.2298541e-01, 1.1184954e-03,\n",
       "         1.1104417e-04, 8.8781776e-04, 1.0110022e-04, 5.2697131e-05,\n",
       "         8.8613987e-04, 2.5755979e-04], dtype=float32),\n",
       "  'pred_label': 22,\n",
       "  'pred_score': 0.8229854106903076,\n",
       "  'pred_class': '菠萝'}]"
      ]
     },
     "execution_count": 11,
     "metadata": {},
     "output_type": "execute_result"
    }
   ],
   "source": [
    "from mmpretrain import ImageClassificationInferencer\n",
    "inferencer=ImageClassificationInferencer('./config.py',pretrained='exp/epoch_4.pth')\n",
    "inferencer(\"inference.jpg\")"
   ]
  }
 ],
 "metadata": {
  "kernelspec": {
   "display_name": "openmmlab-learning",
   "language": "python",
   "name": "python3"
  },
  "language_info": {
   "codemirror_mode": {
    "name": "ipython",
    "version": 3
   },
   "file_extension": ".py",
   "mimetype": "text/x-python",
   "name": "python",
   "nbconvert_exporter": "python",
   "pygments_lexer": "ipython3",
   "version": "3.9.16"
  },
  "orig_nbformat": 4
 },
 "nbformat": 4,
 "nbformat_minor": 2
}
